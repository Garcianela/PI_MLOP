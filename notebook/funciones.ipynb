{
 "cells": [
  {
   "cell_type": "code",
   "execution_count": 57,
   "metadata": {},
   "outputs": [],
   "source": [
    "import pandas as pd\n",
    "\n",
    "\n",
    "ruta_archivo_csv = 'dataset/dataset_f1.csv'\n",
    "data = pd.read_csv(ruta_archivo_csv)\n",
    "\n",
    "\n",
    "def PlayTimeGenre(data, genero):\n",
    "    # Verificar si el tipo de dato de 'genero' es una cadena (string)\n",
    "    if not isinstance(genero, str):\n",
    "        return \"El género debe ser una cadena de texto.\"\n",
    "\n",
    "    filtro_genero = data[data['genres'] == genero]\n",
    "    \n",
    "    if filtro_genero.empty:\n",
    "        return f\"No se encontraron datos para el género {genero}\"\n",
    "    \n",
    "    max_horas_jugadas = filtro_genero['sum_playtime_forever'].max()\n",
    "    ano_max_horas_jugadas = filtro_genero[filtro_genero['sum_playtime_forever'] == max_horas_jugadas]['anio_release'].values[0]\n",
    "    \n",
    "    return f\"Año de lanzamiento con más horas jugadas para Género {genero} : {ano_max_horas_jugadas}\""
   ]
  },
  {
   "cell_type": "code",
   "execution_count": 58,
   "metadata": {},
   "outputs": [
    {
     "name": "stdout",
     "output_type": "stream",
     "text": [
      "Año de lanzamiento con más horas jugadas para Género Strategy : 2010\n"
     ]
    }
   ],
   "source": [
    "genero = 'Strategy'  # Género para el cual deseas encontrar el año de lanzamiento con más horas jugadas\n",
    "\n",
    "resultado = PlayTimeGenre(data, genero)\n",
    "\n",
    "print(resultado)"
   ]
  },
  {
   "cell_type": "code",
   "execution_count": 59,
   "metadata": {},
   "outputs": [
    {
     "name": "stdout",
     "output_type": "stream",
     "text": [
      "{'Usuario con más horas jugadas para Adventure': '76561198027488037', 'Horas jugadas': [{'Año': 2010, 'Horas': 9556457.0}, {'Año': 2011, 'Horas': 4745784976.0}, {'Año': 2012, 'Horas': 8140798749.0}, {'Año': 2013, 'Horas': 37310158633.0}, {'Año': 2014, 'Horas': 123687214303.0}, {'Año': 2015, 'Horas': 150352190114.0}]}\n"
     ]
    }
   ],
   "source": [
    "\n",
    "import pandas as pd\n",
    "\n",
    "# Carga el dataset\n",
    "data_2 = pd.read_csv('dataset/dataset_f2.csv')  # Asegúrate de proporcionar la ubicación correcta del archivo\n",
    "\n",
    "def UserForGenre(data_2, genero):\n",
    "    # Filtra el DataFrame por el género deseado\n",
    "    df_genero = data_2[data_2['genres'] == genero]\n",
    "\n",
    "    if df_genero.empty:\n",
    "        return \"No se encontraron datos para el género especificado.\"\n",
    "\n",
    "    # Calcula la acumulación de horas jugadas por año\n",
    "    horas_por_anio = df_genero.groupby('anio_posted')['sum_playtime_forever'].sum().reset_index()\n",
    "    horas_por_anio = horas_por_anio.rename(columns={'anio_posted': 'Año', 'sum_playtime_forever': 'Horas'})\n",
    "    lista_horas_por_anio = horas_por_anio.to_dict(orient='records')\n",
    "\n",
    "    # Encuentra al usuario con más horas jugadas para el género dado\n",
    "    usuario_max_horas = df_genero.groupby('user_id')['sum_playtime_forever'].sum().idxmax()\n",
    "\n",
    "    # Crea el diccionario de retorno directamente en el formato requerido\n",
    "    resultado = {\n",
    "        \"Usuario con más horas jugadas para \" + genero: usuario_max_horas,\n",
    "        \"Horas jugadas\": lista_horas_por_anio\n",
    "    }\n",
    "\n",
    "    return resultado\n",
    "\n",
    "# Ejemplo de uso\n",
    "if __name__ == \"__main__\":\n",
    "    genero_deseado = 'Adventure'  # Reemplaza con el género que deseas consultar\n",
    "    resultado = UserForGenre(data_2, genero_deseado)\n",
    "    print(resultado)"
   ]
  },
  {
   "cell_type": "code",
   "execution_count": 60,
   "metadata": {},
   "outputs": [
    {
     "name": "stdout",
     "output_type": "stream",
     "text": [
      "[{'Puesto 1': 'Counter-Strike: Global Offensive'}, {'Puesto 2': 'Unturned'}, {'Puesto 3': 'Rust'}]\n"
     ]
    }
   ],
   "source": [
    "import pandas as pd\n",
    "\n",
    "# Supongamos que tienes el dataset en un archivo CSV llamado 'dataset_f3.csv'\n",
    "# Puedes cargar el dataset de la siguiente manera:\n",
    "dataset_f3 = pd.read_csv('dataset/dataset_f34.csv')\n",
    "\n",
    "\n",
    "def UsersRecommend(year: int):\n",
    "    # Verificar si el año es igual a -1 y mostrar un mensaje personalizado\n",
    "    if year == -1:\n",
    "        return \"El año ingresado es -1, lo cual no es válido.\"\n",
    "\n",
    "    # Verificar que el año sea un número entero\n",
    "    if not isinstance(year, int):\n",
    "        return \"El año debe ser un número entero.\"\n",
    "\n",
    "    # Verificar que el año ingresado esté en la columna 'anio_posted'\n",
    "    if year not in dataset_f3['anio_posted'].unique():\n",
    "        return \"El año no se encuentra en la columna 'anio_posted'.\"\n",
    "\n",
    "    # Filtrar el dataset para obtener solo las filas correspondientes al año dado\n",
    "    juegos_del_año = dataset_f3[dataset_f3['anio_posted'] == year]\n",
    "\n",
    "    # Calcular la cantidad de recomendaciones para cada juego\n",
    "    recomendaciones_por_juego = juegos_del_año.groupby('app_name')['recommend'].sum().reset_index()\n",
    "\n",
    "    # Ordenar los juegos por la cantidad de recomendaciones en orden descendente\n",
    "    juegos_ordenados = recomendaciones_por_juego.sort_values(by='recommend', ascending=False)\n",
    "\n",
    "    # Tomar los tres juegos más recomendados\n",
    "    top_3_juegos = juegos_ordenados.head(3)\n",
    "\n",
    "    # Crear la lista de resultados en el formato deseado\n",
    "    resultados = [{\"Puesto 1\": top_3_juegos.iloc[0]['app_name']},\n",
    "                 {\"Puesto 2\": top_3_juegos.iloc[1]['app_name']},\n",
    "                 {\"Puesto 3\": top_3_juegos.iloc[2]['app_name']}]\n",
    "\n",
    "    return resultados\n",
    "\n",
    "# Ejemplo de uso:\n",
    "año = 2015  # Cambia esto al año que desees\n",
    "resultado = UsersRecommend(año)\n",
    "print(resultado)"
   ]
  },
  {
   "cell_type": "code",
   "execution_count": 61,
   "metadata": {},
   "outputs": [
    {
     "name": "stdout",
     "output_type": "stream",
     "text": [
      "[{'Puesto 1': 'Rust'}, {'Puesto 2': 'Robocraft'}, {'Puesto 3': 'DayZ'}]\n"
     ]
    }
   ],
   "source": [
    "import pandas as pd\n",
    "\n",
    "# Supongamos que tienes el dataset en un archivo CSV llamado 'dataset_f3.csv'\n",
    "# Puedes cargar el dataset de la siguiente manera:\n",
    "dataset_f3 = pd.read_csv('dataset/dataset_f34.csv')\n",
    "\n",
    "def UsersNotRecommend(year: int):\n",
    "    # Verificar si el año es igual a -1 y mostrar un mensaje personalizado\n",
    "    if year == -1:\n",
    "        return \"El año ingresado es -1, lo cual no es válido.\"\n",
    "\n",
    "    # Verificar que el año sea un número entero\n",
    "    if not isinstance(year, int):\n",
    "        return \"El año debe ser un número entero.\"\n",
    "\n",
    "    # Verificar que el año ingresado esté en la columna 'anio_posted'\n",
    "    if year not in dataset_f3['anio_posted'].unique():\n",
    "        return \"El año no se encuentra en la columna 'anio_posted'.\"\n",
    "\n",
    "    # Filtrar el dataset para obtener solo las filas correspondientes al año dado\n",
    "    juegos_del_año = dataset_f3[dataset_f3['anio_posted'] == year]\n",
    "\n",
    "    # Filtrar los juegos menos recomendados (reviews.recommend = False)\n",
    "    juegos_no_recomendados = juegos_del_año[juegos_del_año['recommend'] == False]\n",
    "\n",
    "    # Contar la cantidad de veces que cada juego recibió recomendaciones negativas\n",
    "    juegos_contados = juegos_no_recomendados['app_name'].value_counts().reset_index()\n",
    "    juegos_contados.columns = ['app_name', 'count']\n",
    "\n",
    "    # Ordenar los juegos por la cantidad de recomendaciones negativas en orden descendente\n",
    "    juegos_ordenados = juegos_contados.sort_values(by='count', ascending=False)\n",
    "\n",
    "    # Tomar los tres juegos menos recomendados\n",
    "    top_3_juegos = juegos_ordenados.head(3)\n",
    "\n",
    "    # Crear la lista de resultados en el formato deseado\n",
    "    resultados = [{\"Puesto 1\": top_3_juegos.iloc[0]['app_name']},\n",
    "                 {\"Puesto 2\": top_3_juegos.iloc[1]['app_name']},\n",
    "                 {\"Puesto 3\": top_3_juegos.iloc[2]['app_name']}]\n",
    "\n",
    "    return resultados\n",
    "\n",
    "# Llamar a la función con un año específico (por ejemplo, 2023)\n",
    "resultados = UsersNotRecommend(2015)\n",
    "\n",
    "# Imprimir los resultados\n",
    "print(resultados)"
   ]
  },
  {
   "cell_type": "code",
   "execution_count": 62,
   "metadata": {},
   "outputs": [
    {
     "name": "stdout",
     "output_type": "stream",
     "text": [
      "{'Negative': 3472, 'Neutral': 3671, 'Positive': 11289}\n"
     ]
    }
   ],
   "source": [
    "\n",
    "# Carga el archivo CSV en un DataFrame\n",
    "df = pd.read_csv('dataset/dataset_f5.csv')\n",
    "\n",
    "\n",
    "def sentiment_analysis(año):\n",
    "    # Verifica si el año es un entero positivo\n",
    "    if not isinstance(año, int) or año < 0:\n",
    "        raise ValueError(\"El año debe ser un entero positivo\")\n",
    "\n",
    "    # Verifica si el año se encuentra en la columna 'anio_release'\n",
    "    if año not in df['anio_release'].unique():\n",
    "        raise ValueError(f\"No se encontraron registros para el año {año}\")\n",
    "\n",
    "    # Filtra las filas del DataFrame para el año dado\n",
    "    df_filtered = df[df['anio_release'] == año]\n",
    "\n",
    "    # Cuenta la cantidad de registros para cada categoría de sentimiento\n",
    "    sentiment_counts = df_filtered['sentiment_analysis'].value_counts()\n",
    "\n",
    "    # Convierte el resultado en un diccionario\n",
    "    result = {\n",
    "        'Negative': sentiment_counts.get(0, 0),\n",
    "        'Neutral': sentiment_counts.get(1, 0),\n",
    "        'Positive': sentiment_counts.get(2, 0)\n",
    "    }\n",
    "\n",
    "    return result\n",
    "\n",
    "# Ejemplo de uso:\n",
    "try:\n",
    "    año_deseado = 2015  # Reemplaza con el año que desees analizar\n",
    "    resultado = sentiment_analysis(año_deseado)\n",
    "    print(resultado)\n",
    "except ValueError as e:\n",
    "    print(str(e))"
   ]
  }
 ],
 "metadata": {
  "kernelspec": {
   "display_name": "Python 3",
   "language": "python",
   "name": "python3"
  },
  "language_info": {
   "codemirror_mode": {
    "name": "ipython",
    "version": 3
   },
   "file_extension": ".py",
   "mimetype": "text/x-python",
   "name": "python",
   "nbconvert_exporter": "python",
   "pygments_lexer": "ipython3",
   "version": "3.11.4"
  },
  "orig_nbformat": 4
 },
 "nbformat": 4,
 "nbformat_minor": 2
}
