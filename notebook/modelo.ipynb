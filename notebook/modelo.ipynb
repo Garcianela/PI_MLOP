{
 "cells": [
  {
   "cell_type": "code",
   "execution_count": 5,
   "metadata": {},
   "outputs": [],
   "source": [
    "# Importar bibliotecas y cargar datos\n",
    "\n",
    "import pandas as pd\n",
    "from sklearn.feature_extraction.text import TfidfVectorizer\n",
    "from sklearn.metrics.pairwise import cosine_similarity\n",
    "\n",
    "# Cargar la base de datos\n",
    "df = pd.read_csv('dataset/modelo.csv')\n",
    "\n",
    "# Crear un vectorizador TF-IDF para convertir títulos en vectores numéricos\n",
    "# Crear una matriz TF-IDF para representar los juegos\n",
    "tfidf_vectorizer = TfidfVectorizer()\n",
    "tfidf_matrix = tfidf_vectorizer.fit_transform(df['title'] + ' ' + df['tags'] + ' ' + df['genres'])\n",
    "\n",
    "# Calcular la similitud de coseno entre los juegos\n",
    "cosine_sim = cosine_similarity(tfidf_matrix, tfidf_matrix)\n",
    "\n",
    "# Función para obtener juegos recomendados (limitados a 5)\n",
    "def recomendacion_juego(title, num_recommendations=5):\n",
    "    # Comprobar si 'title' es una cadena\n",
    "    if not isinstance(title, str):\n",
    "        return \"El título debe ser una cadena.\"\n",
    "\n",
    "    # Comprobar si 'title' existe en la lista de títulos\n",
    "    if title not in df['title'].values:\n",
    "        return \"El título proporcionado no se encuentra en la lista de títulos.\"\n",
    "\n",
    "    idx = df[df['title'] == title].index[0]\n",
    "    sim_scores = list(enumerate(cosine_sim[idx]))\n",
    "    sim_scores = sorted(sim_scores, key=lambda x: x[1], reverse=True)\n",
    "    sim_scores = sim_scores[1:num_recommendations+1]  # Obtener las 'num_recommendations' mejores recomendaciones\n",
    "    game_indices = [i[0] for i in sim_scores]\n",
    "    return df['title'].iloc[game_indices].tolist()  # Convertir los resultados a una lista y retornarla\n",
    "\n",
    "\n",
    "def recomendacion_usuario(user_id, num_recommendations=5):\n",
    "    # Verificar si 'user_id' es una cadena\n",
    "    if not isinstance(user_id, str):\n",
    "        return \"El ID de usuario debe ser una cadena.\"\n",
    "\n",
    "    # Filtrar el DataFrame para obtener los juegos que le gustan al usuario\n",
    "    user_likes = df[df['user_id'] == user_id]\n",
    "    \n",
    "    if user_likes.empty:\n",
    "        return \"No se encontraron juegos que le gusten al usuario.\"\n",
    "\n",
    "    # Calcular el promedio de las puntuaciones de similitud para los juegos que le gustan al usuario\n",
    "    avg_similarity_scores = cosine_sim[user_likes.index].mean(axis=0)\n",
    "\n",
    "    # Obtener los índices de los juegos recomendados ordenados por similitud\n",
    "    game_indices = avg_similarity_scores.argsort()[::-1]\n",
    "\n",
    "    # Excluir los juegos que ya le gustan al usuario\n",
    "    recommended_games = [game for game in game_indices if game not in user_likes.index]\n",
    "\n",
    "    # Tomar los primeros 'num_recommendations' juegos recomendados\n",
    "    recommended_games = recommended_games[:num_recommendations]\n",
    "\n",
    "    # Obtener los títulos de los juegos recomendados\n",
    "    recommended_titles = df.iloc[recommended_games]['title'].tolist()\n",
    "\n",
    "    return recommended_titles"
   ]
  },
  {
   "cell_type": "code",
   "execution_count": 6,
   "metadata": {},
   "outputs": [
    {
     "name": "stdout",
     "output_type": "stream",
     "text": [
      "['Call of Duty® 2', 'Call of Duty®', 'Call of Duty: United Offensive', 'Call of Duty®: Black Ops', 'Call of Duty®: Black Ops II']\n"
     ]
    }
   ],
   "source": [
    "related_games = recomendacion_juego('Call of Duty: World at War')\n",
    "print(related_games)"
   ]
  },
  {
   "cell_type": "code",
   "execution_count": 7,
   "metadata": {},
   "outputs": [
    {
     "name": "stdout",
     "output_type": "stream",
     "text": [
      "['Counter-Strike: Source', 'Counter-Strike: Condition Zero', 'Counter-Strike: Global Offensive', 'Insurgency', 'Team Fortress Classic']\n"
     ]
    }
   ],
   "source": [
    "# Ejemplo de uso\n",
    "recommended_games = recomendacion_usuario('Bennysaputra')\n",
    "print(recommended_games)"
   ]
  }
 ],
 "metadata": {
  "kernelspec": {
   "display_name": "Python 3",
   "language": "python",
   "name": "python3"
  },
  "language_info": {
   "codemirror_mode": {
    "name": "ipython",
    "version": 3
   },
   "file_extension": ".py",
   "mimetype": "text/x-python",
   "name": "python",
   "nbconvert_exporter": "python",
   "pygments_lexer": "ipython3",
   "version": "3.11.4"
  },
  "orig_nbformat": 4
 },
 "nbformat": 4,
 "nbformat_minor": 2
}
